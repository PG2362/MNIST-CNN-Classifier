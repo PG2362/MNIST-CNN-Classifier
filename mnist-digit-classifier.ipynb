{
 "cells": [
  {
   "cell_type": "code",
   "execution_count": 1,
   "id": "4e2afec7",
   "metadata": {
    "execution": {
     "iopub.execute_input": "2025-10-22T02:04:51.734948Z",
     "iopub.status.busy": "2025-10-22T02:04:51.734576Z",
     "iopub.status.idle": "2025-10-22T02:05:16.327245Z",
     "shell.execute_reply": "2025-10-22T02:05:16.326036Z"
    },
    "papermill": {
     "duration": 24.600291,
     "end_time": "2025-10-22T02:05:16.329282",
     "exception": false,
     "start_time": "2025-10-22T02:04:51.728991",
     "status": "completed"
    },
    "tags": []
   },
   "outputs": [
    {
     "name": "stderr",
     "output_type": "stream",
     "text": [
      "2025-10-22 02:04:58.655452: E external/local_xla/xla/stream_executor/cuda/cuda_fft.cc:477] Unable to register cuFFT factory: Attempting to register factory for plugin cuFFT when one has already been registered\n",
      "WARNING: All log messages before absl::InitializeLog() is called are written to STDERR\n",
      "E0000 00:00:1761098698.949006      13 cuda_dnn.cc:8310] Unable to register cuDNN factory: Attempting to register factory for plugin cuDNN when one has already been registered\n",
      "E0000 00:00:1761098699.048680      13 cuda_blas.cc:1418] Unable to register cuBLAS factory: Attempting to register factory for plugin cuBLAS when one has already been registered\n"
     ]
    }
   ],
   "source": [
    "import pandas as pd\n",
    "import numpy as np\n",
    "import matplotlib.pyplot as plt\n",
    "import matplotlib.image as mpimg\n",
    "import seaborn as sns\n",
    "%matplotlib inline\n",
    "\n",
    "np.random.seed(2)\n",
    "\n",
    "from sklearn.model_selection import train_test_split\n",
    "from sklearn.metrics import confusion_matrix\n",
    "import itertools\n",
    "\n",
    "from keras.utils import to_categorical \n",
    "from keras.models import Sequential\n",
    "from keras.layers import Dense, Dropout, Flatten, Conv2D, MaxPool2D\n",
    "from keras.optimizers import RMSprop,Adam\n",
    "from tensorflow.keras.preprocessing.image import ImageDataGenerator\n",
    "from keras.callbacks import ReduceLROnPlateau\n",
    "\n",
    "\n",
    "sns.set(style='white', context='notebook', palette='deep')"
   ]
  },
  {
   "cell_type": "code",
   "execution_count": 2,
   "id": "49f15fba",
   "metadata": {
    "execution": {
     "iopub.execute_input": "2025-10-22T02:05:16.338804Z",
     "iopub.status.busy": "2025-10-22T02:05:16.338182Z",
     "iopub.status.idle": "2025-10-22T02:05:21.966802Z",
     "shell.execute_reply": "2025-10-22T02:05:21.965516Z"
    },
    "papermill": {
     "duration": 5.635134,
     "end_time": "2025-10-22T02:05:21.968631",
     "exception": false,
     "start_time": "2025-10-22T02:05:16.333497",
     "status": "completed"
    },
    "tags": []
   },
   "outputs": [],
   "source": [
    "train_data = pd.read_csv('/kaggle/input/digit-recognizer/train.csv')\n",
    "test_data = pd.read_csv('/kaggle/input/digit-recognizer/test.csv')"
   ]
  },
  {
   "cell_type": "code",
   "execution_count": 3,
   "id": "7277cb4a",
   "metadata": {
    "execution": {
     "iopub.execute_input": "2025-10-22T02:05:21.978505Z",
     "iopub.status.busy": "2025-10-22T02:05:21.978208Z",
     "iopub.status.idle": "2025-10-22T02:05:22.011995Z",
     "shell.execute_reply": "2025-10-22T02:05:22.011006Z"
    },
    "papermill": {
     "duration": 0.041357,
     "end_time": "2025-10-22T02:05:22.014159",
     "exception": false,
     "start_time": "2025-10-22T02:05:21.972802",
     "status": "completed"
    },
    "tags": []
   },
   "outputs": [
    {
     "data": {
      "text/html": [
       "<div>\n",
       "<style scoped>\n",
       "    .dataframe tbody tr th:only-of-type {\n",
       "        vertical-align: middle;\n",
       "    }\n",
       "\n",
       "    .dataframe tbody tr th {\n",
       "        vertical-align: top;\n",
       "    }\n",
       "\n",
       "    .dataframe thead th {\n",
       "        text-align: right;\n",
       "    }\n",
       "</style>\n",
       "<table border=\"1\" class=\"dataframe\">\n",
       "  <thead>\n",
       "    <tr style=\"text-align: right;\">\n",
       "      <th></th>\n",
       "      <th>label</th>\n",
       "      <th>pixel0</th>\n",
       "      <th>pixel1</th>\n",
       "      <th>pixel2</th>\n",
       "      <th>pixel3</th>\n",
       "      <th>pixel4</th>\n",
       "      <th>pixel5</th>\n",
       "      <th>pixel6</th>\n",
       "      <th>pixel7</th>\n",
       "      <th>pixel8</th>\n",
       "      <th>...</th>\n",
       "      <th>pixel774</th>\n",
       "      <th>pixel775</th>\n",
       "      <th>pixel776</th>\n",
       "      <th>pixel777</th>\n",
       "      <th>pixel778</th>\n",
       "      <th>pixel779</th>\n",
       "      <th>pixel780</th>\n",
       "      <th>pixel781</th>\n",
       "      <th>pixel782</th>\n",
       "      <th>pixel783</th>\n",
       "    </tr>\n",
       "  </thead>\n",
       "  <tbody>\n",
       "    <tr>\n",
       "      <th>0</th>\n",
       "      <td>1</td>\n",
       "      <td>0</td>\n",
       "      <td>0</td>\n",
       "      <td>0</td>\n",
       "      <td>0</td>\n",
       "      <td>0</td>\n",
       "      <td>0</td>\n",
       "      <td>0</td>\n",
       "      <td>0</td>\n",
       "      <td>0</td>\n",
       "      <td>...</td>\n",
       "      <td>0</td>\n",
       "      <td>0</td>\n",
       "      <td>0</td>\n",
       "      <td>0</td>\n",
       "      <td>0</td>\n",
       "      <td>0</td>\n",
       "      <td>0</td>\n",
       "      <td>0</td>\n",
       "      <td>0</td>\n",
       "      <td>0</td>\n",
       "    </tr>\n",
       "    <tr>\n",
       "      <th>1</th>\n",
       "      <td>0</td>\n",
       "      <td>0</td>\n",
       "      <td>0</td>\n",
       "      <td>0</td>\n",
       "      <td>0</td>\n",
       "      <td>0</td>\n",
       "      <td>0</td>\n",
       "      <td>0</td>\n",
       "      <td>0</td>\n",
       "      <td>0</td>\n",
       "      <td>...</td>\n",
       "      <td>0</td>\n",
       "      <td>0</td>\n",
       "      <td>0</td>\n",
       "      <td>0</td>\n",
       "      <td>0</td>\n",
       "      <td>0</td>\n",
       "      <td>0</td>\n",
       "      <td>0</td>\n",
       "      <td>0</td>\n",
       "      <td>0</td>\n",
       "    </tr>\n",
       "    <tr>\n",
       "      <th>2</th>\n",
       "      <td>1</td>\n",
       "      <td>0</td>\n",
       "      <td>0</td>\n",
       "      <td>0</td>\n",
       "      <td>0</td>\n",
       "      <td>0</td>\n",
       "      <td>0</td>\n",
       "      <td>0</td>\n",
       "      <td>0</td>\n",
       "      <td>0</td>\n",
       "      <td>...</td>\n",
       "      <td>0</td>\n",
       "      <td>0</td>\n",
       "      <td>0</td>\n",
       "      <td>0</td>\n",
       "      <td>0</td>\n",
       "      <td>0</td>\n",
       "      <td>0</td>\n",
       "      <td>0</td>\n",
       "      <td>0</td>\n",
       "      <td>0</td>\n",
       "    </tr>\n",
       "    <tr>\n",
       "      <th>3</th>\n",
       "      <td>4</td>\n",
       "      <td>0</td>\n",
       "      <td>0</td>\n",
       "      <td>0</td>\n",
       "      <td>0</td>\n",
       "      <td>0</td>\n",
       "      <td>0</td>\n",
       "      <td>0</td>\n",
       "      <td>0</td>\n",
       "      <td>0</td>\n",
       "      <td>...</td>\n",
       "      <td>0</td>\n",
       "      <td>0</td>\n",
       "      <td>0</td>\n",
       "      <td>0</td>\n",
       "      <td>0</td>\n",
       "      <td>0</td>\n",
       "      <td>0</td>\n",
       "      <td>0</td>\n",
       "      <td>0</td>\n",
       "      <td>0</td>\n",
       "    </tr>\n",
       "    <tr>\n",
       "      <th>4</th>\n",
       "      <td>0</td>\n",
       "      <td>0</td>\n",
       "      <td>0</td>\n",
       "      <td>0</td>\n",
       "      <td>0</td>\n",
       "      <td>0</td>\n",
       "      <td>0</td>\n",
       "      <td>0</td>\n",
       "      <td>0</td>\n",
       "      <td>0</td>\n",
       "      <td>...</td>\n",
       "      <td>0</td>\n",
       "      <td>0</td>\n",
       "      <td>0</td>\n",
       "      <td>0</td>\n",
       "      <td>0</td>\n",
       "      <td>0</td>\n",
       "      <td>0</td>\n",
       "      <td>0</td>\n",
       "      <td>0</td>\n",
       "      <td>0</td>\n",
       "    </tr>\n",
       "  </tbody>\n",
       "</table>\n",
       "<p>5 rows × 785 columns</p>\n",
       "</div>"
      ],
      "text/plain": [
       "   label  pixel0  pixel1  pixel2  pixel3  pixel4  pixel5  pixel6  pixel7  \\\n",
       "0      1       0       0       0       0       0       0       0       0   \n",
       "1      0       0       0       0       0       0       0       0       0   \n",
       "2      1       0       0       0       0       0       0       0       0   \n",
       "3      4       0       0       0       0       0       0       0       0   \n",
       "4      0       0       0       0       0       0       0       0       0   \n",
       "\n",
       "   pixel8  ...  pixel774  pixel775  pixel776  pixel777  pixel778  pixel779  \\\n",
       "0       0  ...         0         0         0         0         0         0   \n",
       "1       0  ...         0         0         0         0         0         0   \n",
       "2       0  ...         0         0         0         0         0         0   \n",
       "3       0  ...         0         0         0         0         0         0   \n",
       "4       0  ...         0         0         0         0         0         0   \n",
       "\n",
       "   pixel780  pixel781  pixel782  pixel783  \n",
       "0         0         0         0         0  \n",
       "1         0         0         0         0  \n",
       "2         0         0         0         0  \n",
       "3         0         0         0         0  \n",
       "4         0         0         0         0  \n",
       "\n",
       "[5 rows x 785 columns]"
      ]
     },
     "execution_count": 3,
     "metadata": {},
     "output_type": "execute_result"
    }
   ],
   "source": [
    "train_data.head()"
   ]
  },
  {
   "cell_type": "code",
   "execution_count": 4,
   "id": "07b776ef",
   "metadata": {
    "execution": {
     "iopub.execute_input": "2025-10-22T02:05:22.023627Z",
     "iopub.status.busy": "2025-10-22T02:05:22.023304Z",
     "iopub.status.idle": "2025-10-22T02:05:22.181357Z",
     "shell.execute_reply": "2025-10-22T02:05:22.180074Z"
    },
    "papermill": {
     "duration": 0.164841,
     "end_time": "2025-10-22T02:05:22.183115",
     "exception": false,
     "start_time": "2025-10-22T02:05:22.018274",
     "status": "completed"
    },
    "tags": []
   },
   "outputs": [
    {
     "data": {
      "text/html": [
       "<div>\n",
       "<style scoped>\n",
       "    .dataframe tbody tr th:only-of-type {\n",
       "        vertical-align: middle;\n",
       "    }\n",
       "\n",
       "    .dataframe tbody tr th {\n",
       "        vertical-align: top;\n",
       "    }\n",
       "\n",
       "    .dataframe thead th {\n",
       "        text-align: right;\n",
       "    }\n",
       "</style>\n",
       "<table border=\"1\" class=\"dataframe\">\n",
       "  <thead>\n",
       "    <tr style=\"text-align: right;\">\n",
       "      <th></th>\n",
       "      <th>pixel0</th>\n",
       "      <th>pixel1</th>\n",
       "      <th>pixel2</th>\n",
       "      <th>pixel3</th>\n",
       "      <th>pixel4</th>\n",
       "      <th>pixel5</th>\n",
       "      <th>pixel6</th>\n",
       "      <th>pixel7</th>\n",
       "      <th>pixel8</th>\n",
       "      <th>pixel9</th>\n",
       "      <th>...</th>\n",
       "      <th>pixel774</th>\n",
       "      <th>pixel775</th>\n",
       "      <th>pixel776</th>\n",
       "      <th>pixel777</th>\n",
       "      <th>pixel778</th>\n",
       "      <th>pixel779</th>\n",
       "      <th>pixel780</th>\n",
       "      <th>pixel781</th>\n",
       "      <th>pixel782</th>\n",
       "      <th>pixel783</th>\n",
       "    </tr>\n",
       "  </thead>\n",
       "  <tbody>\n",
       "    <tr>\n",
       "      <th>0</th>\n",
       "      <td>0</td>\n",
       "      <td>0</td>\n",
       "      <td>0</td>\n",
       "      <td>0</td>\n",
       "      <td>0</td>\n",
       "      <td>0</td>\n",
       "      <td>0</td>\n",
       "      <td>0</td>\n",
       "      <td>0</td>\n",
       "      <td>0</td>\n",
       "      <td>...</td>\n",
       "      <td>0</td>\n",
       "      <td>0</td>\n",
       "      <td>0</td>\n",
       "      <td>0</td>\n",
       "      <td>0</td>\n",
       "      <td>0</td>\n",
       "      <td>0</td>\n",
       "      <td>0</td>\n",
       "      <td>0</td>\n",
       "      <td>0</td>\n",
       "    </tr>\n",
       "    <tr>\n",
       "      <th>1</th>\n",
       "      <td>0</td>\n",
       "      <td>0</td>\n",
       "      <td>0</td>\n",
       "      <td>0</td>\n",
       "      <td>0</td>\n",
       "      <td>0</td>\n",
       "      <td>0</td>\n",
       "      <td>0</td>\n",
       "      <td>0</td>\n",
       "      <td>0</td>\n",
       "      <td>...</td>\n",
       "      <td>0</td>\n",
       "      <td>0</td>\n",
       "      <td>0</td>\n",
       "      <td>0</td>\n",
       "      <td>0</td>\n",
       "      <td>0</td>\n",
       "      <td>0</td>\n",
       "      <td>0</td>\n",
       "      <td>0</td>\n",
       "      <td>0</td>\n",
       "    </tr>\n",
       "    <tr>\n",
       "      <th>2</th>\n",
       "      <td>0</td>\n",
       "      <td>0</td>\n",
       "      <td>0</td>\n",
       "      <td>0</td>\n",
       "      <td>0</td>\n",
       "      <td>0</td>\n",
       "      <td>0</td>\n",
       "      <td>0</td>\n",
       "      <td>0</td>\n",
       "      <td>0</td>\n",
       "      <td>...</td>\n",
       "      <td>0</td>\n",
       "      <td>0</td>\n",
       "      <td>0</td>\n",
       "      <td>0</td>\n",
       "      <td>0</td>\n",
       "      <td>0</td>\n",
       "      <td>0</td>\n",
       "      <td>0</td>\n",
       "      <td>0</td>\n",
       "      <td>0</td>\n",
       "    </tr>\n",
       "    <tr>\n",
       "      <th>3</th>\n",
       "      <td>0</td>\n",
       "      <td>0</td>\n",
       "      <td>0</td>\n",
       "      <td>0</td>\n",
       "      <td>0</td>\n",
       "      <td>0</td>\n",
       "      <td>0</td>\n",
       "      <td>0</td>\n",
       "      <td>0</td>\n",
       "      <td>0</td>\n",
       "      <td>...</td>\n",
       "      <td>0</td>\n",
       "      <td>0</td>\n",
       "      <td>0</td>\n",
       "      <td>0</td>\n",
       "      <td>0</td>\n",
       "      <td>0</td>\n",
       "      <td>0</td>\n",
       "      <td>0</td>\n",
       "      <td>0</td>\n",
       "      <td>0</td>\n",
       "    </tr>\n",
       "    <tr>\n",
       "      <th>4</th>\n",
       "      <td>0</td>\n",
       "      <td>0</td>\n",
       "      <td>0</td>\n",
       "      <td>0</td>\n",
       "      <td>0</td>\n",
       "      <td>0</td>\n",
       "      <td>0</td>\n",
       "      <td>0</td>\n",
       "      <td>0</td>\n",
       "      <td>0</td>\n",
       "      <td>...</td>\n",
       "      <td>0</td>\n",
       "      <td>0</td>\n",
       "      <td>0</td>\n",
       "      <td>0</td>\n",
       "      <td>0</td>\n",
       "      <td>0</td>\n",
       "      <td>0</td>\n",
       "      <td>0</td>\n",
       "      <td>0</td>\n",
       "      <td>0</td>\n",
       "    </tr>\n",
       "  </tbody>\n",
       "</table>\n",
       "<p>5 rows × 784 columns</p>\n",
       "</div>"
      ],
      "text/plain": [
       "   pixel0  pixel1  pixel2  pixel3  pixel4  pixel5  pixel6  pixel7  pixel8  \\\n",
       "0       0       0       0       0       0       0       0       0       0   \n",
       "1       0       0       0       0       0       0       0       0       0   \n",
       "2       0       0       0       0       0       0       0       0       0   \n",
       "3       0       0       0       0       0       0       0       0       0   \n",
       "4       0       0       0       0       0       0       0       0       0   \n",
       "\n",
       "   pixel9  ...  pixel774  pixel775  pixel776  pixel777  pixel778  pixel779  \\\n",
       "0       0  ...         0         0         0         0         0         0   \n",
       "1       0  ...         0         0         0         0         0         0   \n",
       "2       0  ...         0         0         0         0         0         0   \n",
       "3       0  ...         0         0         0         0         0         0   \n",
       "4       0  ...         0         0         0         0         0         0   \n",
       "\n",
       "   pixel780  pixel781  pixel782  pixel783  \n",
       "0         0         0         0         0  \n",
       "1         0         0         0         0  \n",
       "2         0         0         0         0  \n",
       "3         0         0         0         0  \n",
       "4         0         0         0         0  \n",
       "\n",
       "[5 rows x 784 columns]"
      ]
     },
     "execution_count": 4,
     "metadata": {},
     "output_type": "execute_result"
    }
   ],
   "source": [
    "y_train = train_data['label']\n",
    "X = train_data.drop(labels='label',axis=1)\n",
    "del train_data\n",
    "X.head()"
   ]
  },
  {
   "cell_type": "code",
   "execution_count": 5,
   "id": "3c82ff33",
   "metadata": {
    "execution": {
     "iopub.execute_input": "2025-10-22T02:05:22.192862Z",
     "iopub.status.busy": "2025-10-22T02:05:22.192491Z",
     "iopub.status.idle": "2025-10-22T02:05:22.444723Z",
     "shell.execute_reply": "2025-10-22T02:05:22.443750Z"
    },
    "papermill": {
     "duration": 0.258905,
     "end_time": "2025-10-22T02:05:22.446427",
     "exception": false,
     "start_time": "2025-10-22T02:05:22.187522",
     "status": "completed"
    },
    "tags": []
   },
   "outputs": [
    {
     "data": {
      "text/plain": [
       "label\n",
       "1    4684\n",
       "7    4401\n",
       "3    4351\n",
       "9    4188\n",
       "2    4177\n",
       "6    4137\n",
       "0    4132\n",
       "4    4072\n",
       "8    4063\n",
       "5    3795\n",
       "Name: count, dtype: int64"
      ]
     },
     "execution_count": 5,
     "metadata": {},
     "output_type": "execute_result"
    },
    {
     "data": {
      "image/png": "[encoded data removed]",
      "text/plain": [
       "<Figure size 640x480 with 1 Axes>"
      ]
     },
     "metadata": {},
     "output_type": "display_data"
    }
   ],
   "source": [
    "g = sns.countplot(y_train)\n",
    "y_train.value_counts()"
   ]
  },
  {
   "cell_type": "code",
   "execution_count": 6,
   "id": "787248b1",
   "metadata": {
    "execution": {
     "iopub.execute_input": "2025-10-22T02:05:22.458038Z",
     "iopub.status.busy": "2025-10-22T02:05:22.457649Z",
     "iopub.status.idle": "2025-10-22T02:05:22.487023Z",
     "shell.execute_reply": "2025-10-22T02:05:22.485614Z"
    },
    "papermill": {
     "duration": 0.037812,
     "end_time": "2025-10-22T02:05:22.489038",
     "exception": false,
     "start_time": "2025-10-22T02:05:22.451226",
     "status": "completed"
    },
    "tags": []
   },
   "outputs": [
    {
     "name": "stdout",
     "output_type": "stream",
     "text": [
      "count       784\n",
      "unique        1\n",
      "top       False\n",
      "freq        784\n",
      "dtype: object\n",
      "count       784\n",
      "unique        1\n",
      "top       False\n",
      "freq        784\n",
      "dtype: object\n"
     ]
    }
   ],
   "source": [
    "print(X.isnull().any().describe())\n",
    "print(test_data.isnull().any().describe())"
   ]
  },
  {
   "cell_type": "code",
   "execution_count": 7,
   "id": "2fcf784d",
   "metadata": {
    "execution": {
     "iopub.execute_input": "2025-10-22T02:05:22.500582Z",
     "iopub.status.busy": "2025-10-22T02:05:22.500205Z",
     "iopub.status.idle": "2025-10-22T02:05:22.641542Z",
     "shell.execute_reply": "2025-10-22T02:05:22.640098Z"
    },
    "papermill": {
     "duration": 0.148984,
     "end_time": "2025-10-22T02:05:22.643265",
     "exception": false,
     "start_time": "2025-10-22T02:05:22.494281",
     "status": "completed"
    },
    "tags": []
   },
   "outputs": [],
   "source": [
    "X = X/255.0\n",
    "test_data = test_data/255.0\n"
   ]
  },
  {
   "cell_type": "code",
   "execution_count": 8,
   "id": "6040c1a9",
   "metadata": {
    "execution": {
     "iopub.execute_input": "2025-10-22T02:05:22.655949Z",
     "iopub.status.busy": "2025-10-22T02:05:22.655456Z",
     "iopub.status.idle": "2025-10-22T02:05:22.662126Z",
     "shell.execute_reply": "2025-10-22T02:05:22.659782Z"
    },
    "papermill": {
     "duration": 0.016332,
     "end_time": "2025-10-22T02:05:22.664581",
     "exception": false,
     "start_time": "2025-10-22T02:05:22.648249",
     "status": "completed"
    },
    "tags": []
   },
   "outputs": [],
   "source": [
    "X = X.values.reshape(-1,28,28,1)\n",
    "test_data = test_data.values.reshape(-1,28,28,1)\n"
   ]
  },
  {
   "cell_type": "code",
   "execution_count": 9,
   "id": "1a929035",
   "metadata": {
    "execution": {
     "iopub.execute_input": "2025-10-22T02:05:22.675591Z",
     "iopub.status.busy": "2025-10-22T02:05:22.675309Z",
     "iopub.status.idle": "2025-10-22T02:05:22.682121Z",
     "shell.execute_reply": "2025-10-22T02:05:22.681000Z"
    },
    "papermill": {
     "duration": 0.013932,
     "end_time": "2025-10-22T02:05:22.683858",
     "exception": false,
     "start_time": "2025-10-22T02:05:22.669926",
     "status": "completed"
    },
    "tags": []
   },
   "outputs": [],
   "source": [
    "y_train = to_categorical(y_train,num_classes=10)\n",
    "random_seed=3"
   ]
  },
  {
   "cell_type": "code",
   "execution_count": 10,
   "id": "c22ea02e",
   "metadata": {
    "execution": {
     "iopub.execute_input": "2025-10-22T02:05:22.695385Z",
     "iopub.status.busy": "2025-10-22T02:05:22.695026Z",
     "iopub.status.idle": "2025-10-22T02:05:23.187007Z",
     "shell.execute_reply": "2025-10-22T02:05:23.185110Z"
    },
    "papermill": {
     "duration": 0.499742,
     "end_time": "2025-10-22T02:05:23.189052",
     "exception": false,
     "start_time": "2025-10-22T02:05:22.689310",
     "status": "completed"
    },
    "tags": []
   },
   "outputs": [],
   "source": [
    "X_train,X_val,y_train2,y_val = train_test_split(X,y_train,test_size=.1,random_state=random_seed)\n"
   ]
  },
  {
   "cell_type": "code",
   "execution_count": 11,
   "id": "e333d6af",
   "metadata": {
    "execution": {
     "iopub.execute_input": "2025-10-22T02:05:23.200940Z",
     "iopub.status.busy": "2025-10-22T02:05:23.200532Z",
     "iopub.status.idle": "2025-10-22T02:05:23.499636Z",
     "shell.execute_reply": "2025-10-22T02:05:23.498334Z"
    },
    "papermill": {
     "duration": 0.306931,
     "end_time": "2025-10-22T02:05:23.501511",
     "exception": false,
     "start_time": "2025-10-22T02:05:23.194580",
     "status": "completed"
    },
    "tags": []
   },
   "outputs": [
    {
     "data": {
      "text/plain": [
       "<matplotlib.image.AxesImage at 0x7c7c75dfb750>"
      ]
     },
     "execution_count": 11,
     "metadata": {},
     "output_type": "execute_result"
    },
    {
     "data": {
      "image/png": "[encoded data removed]",
      "text/plain": [
       "<Figure size 640x480 with 1 Axes>"
      ]
     },
     "metadata": {},
     "output_type": "display_data"
    }
   ],
   "source": [
    "plt.imshow(X_train[0][:,:,0])"
   ]
  },
  {
   "cell_type": "code",
   "execution_count": 12,
   "id": "aa5d281c",
   "metadata": {
    "execution": {
     "iopub.execute_input": "2025-10-22T02:05:23.512739Z",
     "iopub.status.busy": "2025-10-22T02:05:23.512380Z",
     "iopub.status.idle": "2025-10-22T02:05:23.718486Z",
     "shell.execute_reply": "2025-10-22T02:05:23.717422Z"
    },
    "papermill": {
     "duration": 0.213698,
     "end_time": "2025-10-22T02:05:23.720270",
     "exception": false,
     "start_time": "2025-10-22T02:05:23.506572",
     "status": "completed"
    },
    "tags": []
   },
   "outputs": [
    {
     "name": "stderr",
     "output_type": "stream",
     "text": [
      "/usr/local/lib/python3.11/dist-packages/keras/src/layers/convolutional/base_conv.py:107: UserWarning: Do not pass an `input_shape`/`input_dim` argument to a layer. When using Sequential models, prefer using an `Input(shape)` object as the first layer in the model instead.\n",
      "  super().__init__(activity_regularizer=activity_regularizer, **kwargs)\n",
      "2025-10-22 02:05:23.526538: E external/local_xla/xla/stream_executor/cuda/cuda_driver.cc:152] failed call to cuInit: INTERNAL: CUDA error: Failed call to cuInit: UNKNOWN ERROR (303)\n"
     ]
    }
   ],
   "source": [
    "model = Sequential()\n",
    "model.add(Conv2D(filters=32,kernel_size=(5,5),padding = 'Same',activation='relu',input_shape=(28,28,1)))\n",
    "model.add(Conv2D(filters=32,kernel_size=(5,5),padding = 'Same',activation='relu'))\n",
    "model.add(MaxPool2D(pool_size=(2,2)))\n",
    "model.add(Dropout(0.25))\n",
    "\n",
    "model.add(Conv2D(filters=64,kernel_size=(3,3),padding = 'Same',activation='relu'))\n",
    "model.add(Conv2D(filters=64,kernel_size=(3,3),padding = 'Same',activation='relu'))\n",
    "model.add(MaxPool2D(pool_size=(2,2),strides=(2,2)))\n",
    "\n",
    "model.add(Flatten())\n",
    "model.add(Dense(256, activation =\"relu\"))\n",
    "model.add(Dropout(0.5))\n",
    "model.add(Dense(10, activation =\"softmax\"))"
   ]
  },
  {
   "cell_type": "code",
   "execution_count": 13,
   "id": "1b45143e",
   "metadata": {
    "execution": {
     "iopub.execute_input": "2025-10-22T02:05:23.731226Z",
     "iopub.status.busy": "2025-10-22T02:05:23.730909Z",
     "iopub.status.idle": "2025-10-22T02:05:23.747689Z",
     "shell.execute_reply": "2025-10-22T02:05:23.746615Z"
    },
    "papermill": {
     "duration": 0.02434,
     "end_time": "2025-10-22T02:05:23.749574",
     "exception": false,
     "start_time": "2025-10-22T02:05:23.725234",
     "status": "completed"
    },
    "tags": []
   },
   "outputs": [],
   "source": [
    "model.compile(optimizer=Adam(), loss='categorical_crossentropy', metrics=['accuracy'])"
   ]
  },
  {
   "cell_type": "code",
   "execution_count": 14,
   "id": "7abe7e65",
   "metadata": {
    "execution": {
     "iopub.execute_input": "2025-10-22T02:05:23.761018Z",
     "iopub.status.busy": "2025-10-22T02:05:23.760656Z",
     "iopub.status.idle": "2025-10-22T02:05:23.766434Z",
     "shell.execute_reply": "2025-10-22T02:05:23.765217Z"
    },
    "papermill": {
     "duration": 0.013346,
     "end_time": "2025-10-22T02:05:23.768061",
     "exception": false,
     "start_time": "2025-10-22T02:05:23.754715",
     "status": "completed"
    },
    "tags": []
   },
   "outputs": [],
   "source": [
    "LR_reduction = ReduceLROnPlateau(monitor='val_acc', \n",
    "                                            patience=3, \n",
    "                                            verbose=1, \n",
    "                                            factor=0.5, \n",
    "                                            min_lr=0.00001)\n",
    "epochs = 10\n",
    "batch_size = 80"
   ]
  },
  {
   "cell_type": "code",
   "execution_count": 15,
   "id": "18bc7990",
   "metadata": {
    "execution": {
     "iopub.execute_input": "2025-10-22T02:05:23.780142Z",
     "iopub.status.busy": "2025-10-22T02:05:23.779826Z",
     "iopub.status.idle": "2025-10-22T02:25:14.287047Z",
     "shell.execute_reply": "2025-10-22T02:25:14.285838Z"
    },
    "papermill": {
     "duration": 1190.515349,
     "end_time": "2025-10-22T02:25:14.288774",
     "exception": false,
     "start_time": "2025-10-22T02:05:23.773425",
     "status": "completed"
    },
    "tags": []
   },
   "outputs": [
    {
     "name": "stdout",
     "output_type": "stream",
     "text": [
      "Epoch 1/10\n",
      "473/473 - 125s - 264ms/step - accuracy: 0.9196 - loss: 0.2506 - val_accuracy: 0.9757 - val_loss: 0.0888\n",
      "Epoch 2/10\n",
      "473/473 - 117s - 247ms/step - accuracy: 0.9771 - loss: 0.0754 - val_accuracy: 0.9855 - val_loss: 0.0504\n",
      "Epoch 3/10\n",
      "473/473 - 118s - 249ms/step - accuracy: 0.9839 - loss: 0.0509 - val_accuracy: 0.9871 - val_loss: 0.0449\n",
      "Epoch 4/10\n",
      "473/473 - 119s - 252ms/step - accuracy: 0.9872 - loss: 0.0426 - val_accuracy: 0.9864 - val_loss: 0.0424\n",
      "Epoch 5/10\n",
      "473/473 - 117s - 247ms/step - accuracy: 0.9891 - loss: 0.0357 - val_accuracy: 0.9860 - val_loss: 0.0432\n",
      "Epoch 6/10\n",
      "473/473 - 118s - 250ms/step - accuracy: 0.9911 - loss: 0.0308 - val_accuracy: 0.9883 - val_loss: 0.0429\n",
      "Epoch 7/10\n",
      "473/473 - 118s - 250ms/step - accuracy: 0.9913 - loss: 0.0275 - val_accuracy: 0.9871 - val_loss: 0.0384\n",
      "Epoch 8/10\n",
      "473/473 - 118s - 249ms/step - accuracy: 0.9923 - loss: 0.0239 - val_accuracy: 0.9890 - val_loss: 0.0419\n",
      "Epoch 9/10\n",
      "473/473 - 120s - 253ms/step - accuracy: 0.9938 - loss: 0.0215 - val_accuracy: 0.9893 - val_loss: 0.0448\n",
      "Epoch 10/10\n",
      "473/473 - 120s - 254ms/step - accuracy: 0.9931 - loss: 0.0206 - val_accuracy: 0.9900 - val_loss: 0.0377\n"
     ]
    },
    {
     "data": {
      "text/plain": [
       "<keras.src.callbacks.history.History at 0x7c7cdcefb750>"
      ]
     },
     "execution_count": 15,
     "metadata": {},
     "output_type": "execute_result"
    }
   ],
   "source": [
    "model.fit(X_train, y_train2, batch_size = batch_size, epochs = epochs,\n",
    "          validation_data = (X_val, y_val), verbose = 2)"
   ]
  },
  {
   "cell_type": "code",
   "execution_count": 16,
   "id": "aae5b2e6",
   "metadata": {
    "execution": {
     "iopub.execute_input": "2025-10-22T02:25:14.302213Z",
     "iopub.status.busy": "2025-10-22T02:25:14.301515Z",
     "iopub.status.idle": "2025-10-22T02:25:38.466489Z",
     "shell.execute_reply": "2025-10-22T02:25:38.465465Z"
    },
    "papermill": {
     "duration": 24.17368,
     "end_time": "2025-10-22T02:25:38.468300",
     "exception": false,
     "start_time": "2025-10-22T02:25:14.294620",
     "status": "completed"
    },
    "tags": []
   },
   "outputs": [
    {
     "name": "stdout",
     "output_type": "stream",
     "text": [
      "\u001b[1m875/875\u001b[0m \u001b[32m━━━━━━━━━━━━━━━━━━━━\u001b[0m\u001b[37m\u001b[0m \u001b[1m23s\u001b[0m 27ms/step\n"
     ]
    }
   ],
   "source": [
    "results = model.predict(test_data)\n",
    "results = np.argmax(results,axis = 1)\n",
    "\n",
    "results = pd.Series(results,name=\"Label\")\n",
    "submission = pd.concat([pd.Series(range(1,28001),name = \"ImageId\"),results],axis = 1)\n",
    "\n",
    "submission.to_csv(\"submission.csv\",index=False)"
   ]
  },
  {
   "cell_type": "code",
   "execution_count": null,
   "id": "8db9d6a9",
   "metadata": {
    "papermill": {
     "duration": 0.026178,
     "end_time": "2025-10-22T02:25:38.524404",
     "exception": false,
     "start_time": "2025-10-22T02:25:38.498226",
     "status": "completed"
    },
    "tags": []
   },
   "outputs": [],
   "source": []
  }
 ],
 "metadata": {
  "kaggle": {
   "accelerator": "none",
   "dataSources": [
    {
     "databundleVersionId": 861823,
     "sourceId": 3004,
     "sourceType": "competition"
    }
   ],
   "dockerImageVersionId": 31040,
   "isGpuEnabled": false,
   "isInternetEnabled": true,
   "language": "python",
   "sourceType": "notebook"
  },
  "kernelspec": {
   "display_name": "Python 3",
   "language": "python",
   "name": "python3"
  },
  "language_info": {
   "codemirror_mode": {
    "name": "ipython",
    "version": 3
   },
   "file_extension": ".py",
   "mimetype": "text/x-python",
   "name": "python",
   "nbconvert_exporter": "python",
   "pygments_lexer": "ipython3",
   "version": "3.11.11"
  },
  "papermill": {
   "default_parameters": {},
   "duration": 1256.58457,
   "end_time": "2025-10-22T02:25:42.260839",
   "environment_variables": {},
   "exception": null,
   "input_path": "__notebook__.ipynb",
   "output_path": "__notebook__.ipynb",
   "parameters": {},
   "start_time": "2025-10-22T02:04:45.676269",
   "version": "2.6.0"
  }
 },
 "nbformat": 4,
 "nbformat_minor": 5
}
